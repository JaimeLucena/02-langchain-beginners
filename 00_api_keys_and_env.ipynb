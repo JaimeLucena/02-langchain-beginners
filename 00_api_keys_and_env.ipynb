{
  "cells": [
    {
      "cell_type": "markdown",
      "id": "title",
      "metadata": {},
      "source": [
        "# 00 — API Keys & Environment Setup (OpenAI / Groq)\n",
        "\n",
        "Before running any LangChain notebooks, you’ll need **API keys** to access a language model.\n",
        "\n",
        "This notebook explains how to:\n",
        "- Create API keys for **OpenAI** or **Groq**.\n",
        "- Store them safely in a `.env` file.\n",
        "- Understand basic cost and privacy considerations.\n",
        "\n",
        "You will only do this **once** — after that, all notebooks can load these variables automatically at startup."
      ]
    },
    {
      "cell_type": "markdown",
      "id": "costs",
      "metadata": {},
      "source": [
        "## 💰 Cost overview\n",
        "\n",
        "- Using APIs costs money, but **very little** for small educational projects.\n",
        "- Most notebooks in this course will use a few **hundred tokens** per run, costing **fractions of a cent**.\n",
        "- Example: a few sessions typically stay well below **$0.10 USD total**.\n",
        "\n",
        "**Tips to keep costs minimal:**\n",
        "- Use small models such as `gpt-4o-mini` or open-source models on Groq.\n",
        "- Limit `max_tokens` and keep your prompts short.\n",
        "- Set `temperature` to 0–0.3 for deterministic, efficient outputs.\n",
        "- Avoid long conversations or large documents unless needed."
      ]
    },
    {
      "cell_type": "markdown",
      "id": "providers",
      "metadata": {},
      "source": [
        "## 🧠 Model providers\n",
        "\n",
        "You can use **either provider** (or both):\n",
        "\n",
        "### 🔹 OpenAI — hosted commercial models\n",
        "- Models like `gpt-4o-mini` or `gpt-4-turbo`.\n",
        "- Stable quality, excellent reasoning and language generation.\n",
        "- Pay-as-you-go pricing (billed per token).\n",
        "\n",
        "**To get your key:**\n",
        "1. Create an account at [https://platform.openai.com](https://platform.openai.com)\n",
        "2. Go to **Dashboard → API Keys**\n",
        "3. Click **Create new secret key**\n",
        "4. Copy the key and keep it private (never share it)\n",
        "\n",
        "### 🔹 Groq — fast inference for open-source models\n",
        "- Runs models like Llama 3, Mixtral, and others.\n",
        "- Often cheaper or even free depending on usage.\n",
        "- Useful if you prefer open-source alternatives.\n",
        "\n",
        "**To get your key:**\n",
        "1. Create an account at [https://groq.com](https://groq.com)\n",
        "2. Go to **API Keys**\n",
        "3. Click **Create new key** and copy it safely"
      ]
    },
    {
      "cell_type": "markdown",
      "id": "env-file",
      "metadata": {},
      "source": [
        "## ⚙️ Environment file (`.env`)\n",
        "\n",
        "Once you have your keys, create a file called `.env` in the **root** of this repository (same level as the notebooks).\n",
        "\n",
        "Paste your keys like this:\n",
        "\n",
        "```\n",
        "OPENAI_API_KEY=ADD_KEY_HERE\n",
        "GROQ_API_KEY=ADD_KEY_HERE\n",
        "```\n",
        "\n",
        "**Important:**\n",
        "- Do **not** share or publish your `.env` file.\n",
        "- Add `.env` to your `.gitignore` file if you use Git.\n",
        "- You can safely commit a `.env.example` file with placeholders so others know the variable names:\n",
        "\n",
        "```\n",
        "OPENAI_API_KEY=\n",
        "GROQ_API_KEY=\n",
        "```"
      ]
    },
    {
      "cell_type": "markdown",
      "id": "privacy",
      "metadata": {},
      "source": [
        "## 🔒 Privacy & safety\n",
        "\n",
        "- Your `.env` file stays **only on your computer**.\n",
        "- The API key gives access to your account — treat it like a password.\n",
        "- Never post it in screenshots, GitHub repos, or shared notebooks.\n",
        "- If a key is ever exposed, immediately **revoke** it from the provider dashboard and create a new one."
      ]
    },
    {
      "cell_type": "markdown",
      "id": "how-it-works",
      "metadata": {},
      "source": [
        "## 🧩 How the notebooks will use your keys\n",
        "\n",
        "- Each notebook automatically loads environment variables from `.env` at startup.\n",
        "- You won’t have to re-enter them manually.\n",
        "- When a notebook calls LangChain or an LLM provider, it will read these values transparently:\n",
        "\n",
        "```bash\n",
        "OPENAI_API_KEY=...\n",
        "GROQ_API_KEY=...\n",
        "```\n",
        "\n",
        "You can switch between models or providers simply by changing the model name in the code."
      ]
    },
    {
      "cell_type": "markdown",
      "id": "troubleshoot",
      "metadata": {},
      "source": [
        "## 🧰 Troubleshooting\n",
        "\n",
        "- **Invalid key (401)** → regenerate your API key and restart the notebook.\n",
        "- **No .env file found** → ensure it exists in the repo root.\n",
        "- **Model not found** → check the provider’s model list (names change over time).\n",
        "- **High cost or quota errors** → reduce prompt size or switch to smaller models.\n",
        "- **Network issues** → retry later or check firewall/VPN settings."
      ]
    },
    {
      "cell_type": "markdown",
      "id": "summary",
      "metadata": {},
      "source": [
        "## ✅ Summary\n",
        "\n",
        "- You need **one or both** API keys (OpenAI and/or Groq).\n",
        "- Store them securely in a `.env` file.\n",
        "- Never share your real keys — only share `.env.example`.\n",
        "- Costs are minimal (a few cents total for all notebooks).\n",
        "- From now on, all notebooks will automatically load your keys when executed."
      ]
    }
  ],
  "metadata": {
    "kernelspec": {
      "display_name": "Python 3",
      "language": "python",
      "name": "python3"
    },
    "language_info": {
      "name": "python",
      "version": "3.10"
    }
  },
  "nbformat": 4,
  "nbformat_minor": 5
}

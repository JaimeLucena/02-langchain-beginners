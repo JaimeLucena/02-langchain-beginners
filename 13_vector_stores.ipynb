{
 "cells": [
  {
   "cell_type": "markdown",
   "id": "0c187e61",
   "metadata": {},
   "source": [
    "# 13 — Vector Stores (Chroma) — Basics\n",
    "\n",
    "A **Vector Store** (vector database) stores **embeddings** (numerical vectors) and lets you search them efficiently.\n",
    "\n",
    "Instead of matching literal words, it compares **semantic vectors**:\n",
    "- Similar meanings → vectors are close.\n",
    "- Different meanings → vectors are far.\n",
    "\n",
    "This is great for:\n",
    "- **Semantic retrieval** (not just keyword matching).\n",
    "- Finding relevant text chunks in large corpora.\n",
    "- Powering assistants and chatbots with dynamic context."
   ]
  },
  {
   "cell_type": "code",
   "execution_count": 3,
   "id": "7ad26d46",
   "metadata": {},
   "outputs": [
    {
     "name": "stdout",
     "output_type": "stream",
     "text": [
      "✅ Environment loaded.\n"
     ]
    }
   ],
   "source": [
    "# ╔══════════════════════════════════════════════════════╗\n",
    "# ║ Setup: Load environment variables & initialize model ║\n",
    "# ╚══════════════════════════════════════════════════════╝\n",
    "\n",
    "import os\n",
    "from dotenv import load_dotenv, find_dotenv\n",
    "_ = load_dotenv(find_dotenv())\n",
    "\n",
    "from langchain_openai import ChatOpenAI\n",
    "# from langchain_groq import ChatGroq\n",
    "\n",
    "# Not strictly needed for this notebook, but kept for consistency across the course\n",
    "chat_model = ChatOpenAI(model=\"gpt-4o-mini\")\n",
    "# chat_model = ChatGroq(model=\"llama-3.1-70b-versatile\")\n",
    "\n",
    "print(\"✅ Environment loaded.\")"
   ]
  },
  {
   "cell_type": "markdown",
   "id": "21fe0c15",
   "metadata": {},
   "source": [
    "## Workflow (step by step)\n",
    "\n",
    "1. **Load** a document (e.g., `renewable_energy.txt`).\n",
    "2. **Split** text into manageable chunks.\n",
    "3. **Embed** each chunk with a model (e.g., `OpenAIEmbeddings`).\n",
    "4. **Index** embeddings in a vector store (here: **Chroma**).\n",
    "5. **Query** with semantic similarity and inspect the top results."
   ]
  },
  {
   "cell_type": "markdown",
   "id": "a4e2ea36",
   "metadata": {},
   "source": [
    "### Dependencies\n",
    "You will need the following (already included in your environment if you followed the course setup):\n",
    "- `langchain-text-splitters`\n",
    "- `langchain-community`\n",
    "- `langchain-chroma`\n",
    "- `chromadb`\n",
    "- `langchain-openai`"
   ]
  },
  {
   "cell_type": "code",
   "execution_count": 4,
   "id": "2499c988",
   "metadata": {},
   "outputs": [
    {
     "name": "stdout",
     "output_type": "stream",
     "text": [
      "Loading file: data/renewable_energy.txt\n",
      "Loaded 1 document(s). Preview:\n",
      " Solar energy is one of the most promising renewable energy sources today.\n",
      "It converts sunlight directly into electricity using photovoltaic cells.\n",
      "Over the last decade, the cost of solar panels has dr ...\n",
      "\n"
     ]
    }
   ],
   "source": [
    "# 1) Load a document (with a safe fallback if the file is missing)\n",
    "from langchain_community.document_loaders import TextLoader\n",
    "\n",
    "filepath = \"data/renewable_energy.txt\"\n",
    "docs = []\n",
    "if os.path.exists(filepath):\n",
    "    print(f\"Loading file: {filepath}\")\n",
    "    docs = TextLoader(filepath, encoding=\"utf-8\").load()\n",
    "else:\n",
    "    print(\"⚠️ File not found. Using a small fallback text instead.\")\n",
    "    fallback_text = (\n",
    "        \"Solar energy converts sunlight directly into electricity using photovoltaic cells. \"\n",
    "        \"Wind energy uses turbines to harness the kinetic power of air currents. \"\n",
    "        \"Both sources help reduce carbon emissions, and research is improving battery storage \"\n",
    "        \"to handle the intermittent nature of renewables.\"\n",
    "    )\n",
    "    from langchain_core.documents import Document\n",
    "    docs = [Document(page_content=fallback_text)]\n",
    "\n",
    "print(f\"Loaded {len(docs)} document(s). Preview:\\n\", docs[0].page_content[:200], \"...\\n\")"
   ]
  },
  {
   "cell_type": "code",
   "execution_count": null,
   "id": "0f68e2db",
   "metadata": {},
   "outputs": [
    {
     "name": "stdout",
     "output_type": "stream",
     "text": [
      "Created 1 chunk(s).\n",
      "First chunk preview:\n",
      " Solar energy is one of the most promising renewable energy sources today.\n",
      "It converts sunlight directly into electricity using photovoltaic cells.\n",
      "Over the last decade, the cost of solar panels has dr ...\n",
      "\n"
     ]
    }
   ],
   "source": [
    "# 2) Split into chunks\n",
    "from langchain_text_splitters import CharacterTextSplitter\n",
    "\n",
    "text_splitter = CharacterTextSplitter(chunk_size=200, chunk_overlap=20)\n",
    "chunked_docs = text_splitter.split_documents(docs)\n",
    "print(f\"Created {len(chunked_docs)} chunk(s).\")\n",
    "print(\"First chunk preview:\\n\", chunked_docs[0].page_content[:150], \"...\\n\")"
   ]
  },
  {
   "cell_type": "code",
   "execution_count": 6,
   "id": "6c363755",
   "metadata": {},
   "outputs": [
    {
     "name": "stdout",
     "output_type": "stream",
     "text": [
      "Embeddings model ready.\n"
     ]
    }
   ],
   "source": [
    "# 3) Create embeddings\n",
    "from langchain_openai import OpenAIEmbeddings\n",
    "\n",
    "embeddings = OpenAIEmbeddings()\n",
    "print(\"Embeddings model ready.\")"
   ]
  },
  {
   "cell_type": "code",
   "execution_count": 7,
   "id": "27464e1d",
   "metadata": {},
   "outputs": [
    {
     "name": "stdout",
     "output_type": "stream",
     "text": [
      "Chroma index built.\n"
     ]
    }
   ],
   "source": [
    "# 4) Index in a vector store (Chroma)\n",
    "from langchain_chroma import Chroma\n",
    "\n",
    "# You can also persist to disk by passing a persist_directory\n",
    "vector_db = Chroma.from_documents(documents=chunked_docs, embedding=embeddings)\n",
    "print(\"Chroma index built.\")"
   ]
  },
  {
   "cell_type": "markdown",
   "id": "42dce9c8",
   "metadata": {},
   "source": [
    "## 5) Similarity search\n",
    "\n",
    "When you search, the **query** is embedded and compared against the stored vectors. The store returns the **most similar** chunks."
   ]
  },
  {
   "cell_type": "code",
   "execution_count": 8,
   "id": "f4544899",
   "metadata": {},
   "outputs": [
    {
     "name": "stdout",
     "output_type": "stream",
     "text": [
      "[1]\n",
      "Solar energy is one of the most promising renewable energy sources today.\n",
      "It converts sunlight directly into electricity using photovoltaic cells.\n",
      "Over the last decade, the cost of solar panels has dropped by nearly 80%.\n",
      "\n",
      "Wind energy, on the other hand, uses turbines to transform the kinetic energy\n",
      "of air currents into mechanical power, which can then be converted into electricity.\n",
      "\n",
      "Both solar and wind energy play a crucial role in reducing greenhouse gas emissions.\n",
      "Governments around the world are investing heavily in renewable technologies\n",
      "to achieve carbon neutrality by 2050.\n",
      "\n",
      "However, renewable energy sources are intermittent. This is why new research\n",
      "focuses on improving energy storage systems, such as lithium-ion and solid-state batteries.\n",
      "---\n"
     ]
    }
   ],
   "source": [
    "question = \"What technologies are used to generate renewable energy?\"\n",
    "results = vector_db.similarity_search(question, k=3)\n",
    "\n",
    "for i, doc in enumerate(results, 1):\n",
    "    print(f\"[{i}]\\n{doc.page_content}\\n---\")"
   ]
  },
  {
   "cell_type": "markdown",
   "id": "07e801b6",
   "metadata": {},
   "source": [
    "### Interpreting the result\n",
    "\n",
    "For the query:\n",
    "\n",
    "> *What technologies are used to generate renewable energy?*\n",
    "\n",
    "A typical retrieved passage might be:\n",
    "\n",
    "```\n",
    "Solar energy converts sunlight directly into electricity using photovoltaic cells.\n",
    "Wind energy uses turbines to harness air currents and generate mechanical power.\n",
    "Both technologies play a key role in reducing greenhouse gas emissions worldwide.\n",
    "```\n",
    "\n",
    "Notice it found the **semantically relevant** passage, even without exact keyword matching."
   ]
  },
  {
   "cell_type": "markdown",
   "id": "af62d0f7",
   "metadata": {},
   "source": [
    "## Why a Vector Store is useful\n",
    "\n",
    "- **Semantic search:** Find what the text *means*, not only exact words.\n",
    "- **Scale:** Handles thousands to millions of chunks.\n",
    "- **Speed:** Optimized for vector similarity.\n",
    "- **Use cases:**\n",
    "  - Chatbots with document memory.\n",
    "  - RAG (Retrieval-Augmented Generation) pipelines.\n",
    "  - Internal search engines.\n",
    "  - Knowledge analysis at scale."
   ]
  },
  {
   "cell_type": "markdown",
   "id": "9a91d1ec",
   "metadata": {},
   "source": [
    "## Summary\n",
    "\n",
    "- Vector stores keep **embeddings** and support **fast semantic search**.\n",
    "- The basic pipeline is: **load → split → embed → index → search**.\n",
    "- You’ve built a tiny but complete retrieval flow using **Chroma**.\n",
    "\n",
    "Next steps: wire this retrieval step into a **RAG** chain and feed retrieved chunks into an LLM prompt."
   ]
  }
 ],
 "metadata": {
  "kernelspec": {
   "display_name": "Python 3 (ipykernel)",
   "language": "python",
   "name": "python3"
  },
  "language_info": {
   "codemirror_mode": {
    "name": "ipython",
    "version": 3
   },
   "file_extension": ".py",
   "mimetype": "text/x-python",
   "name": "python",
   "nbconvert_exporter": "python",
   "pygments_lexer": "ipython3",
   "version": "3.12.11"
  }
 },
 "nbformat": 4,
 "nbformat_minor": 5
}
